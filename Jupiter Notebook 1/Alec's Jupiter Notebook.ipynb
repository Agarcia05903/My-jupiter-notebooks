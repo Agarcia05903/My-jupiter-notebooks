{
  "metadata": {
    "language_info": {
      "codemirror_mode": {
        "name": "python",
        "version": 3
      },
      "file_extension": ".py",
      "mimetype": "text/x-python",
      "name": "python",
      "nbconvert_exporter": "python",
      "pygments_lexer": "ipython3",
      "version": "3.8"
    },
    "kernelspec": {
      "name": "python",
      "display_name": "Python (Pyodide)",
      "language": "python"
    }
  },
  "nbformat_minor": 4,
  "nbformat": 4,
  "cells": [
    {
      "cell_type": "code",
      "source": "# Data Science Jupiter Notebook\n\n## Intro\nWelcome to my first ever Jupiter Notebook, this notebook entails my knowledge so far in data science\n\n## Objectives\nIn this notebook, we aim to:\n1. Learn the basics of data science.\n2. Investigate arithmetic expressions in data science.\n3. Give examples of data science tools and libraries.\n\n## Data Science Language list\n1. Julia\n2. Python\n3. R\n\n## Data Science Library list\n- Scikit-Learn\n- Seaborn\n- Matplotlib\n- Pandas\n- Numpy\n\n## Data Science Tools List\n-----------------------------------------------------------------------------\n| Tool            | Description                                             |\n|-----------------|---------------------------------------------------------| \n| Jupyter Notebook| Open source web application for interactive coding      |\n| TensorFlow      | Open source machine learning and deep learning framework|\n| Tableau         | Business Intelligence and Data Visualization tool       |\n-----------------------------------------------------------------------------\n\n## Examples of Arithmetic Expression\nHere entails some of the basic arithmetic expressions in Python.\n\nresult = 4 * 5 + 6\nresult\n\n# Minutes to hours conversion\nminutes = 240\nhours = minutes/60\nhours\n\n## Author\n- Alec Garcia\n\n\n\n",
      "metadata": {},
      "execution_count": null,
      "outputs": []
    }
  ]
}