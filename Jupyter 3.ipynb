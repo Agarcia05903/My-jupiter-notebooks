{
  "metadata": {
    "language_info": {
      "codemirror_mode": {
        "name": "python",
        "version": 3
      },
      "file_extension": ".py",
      "mimetype": "text/x-python",
      "name": "python",
      "nbconvert_exporter": "python",
      "pygments_lexer": "ipython3",
      "version": "3.8"
    },
    "kernelspec": {
      "name": "python",
      "display_name": "Python (Pyodide)",
      "language": "python"
    }
  },
  "nbformat_minor": 4,
  "nbformat": 4,
  "cells": [
    {
      "cell_type": "markdown",
      "source": "# My Data Science Notebook\n",
      "metadata": {}
    },
    {
      "cell_type": "markdown",
      "source": "## Intro\nWelcome to my first ever Jupiter Notebook, this notebook entails my knowledge so far in data science",
      "metadata": {}
    },
    {
      "cell_type": "markdown",
      "source": "## Objectives\nIn this notebook, we aim to:\n1. Learn the basics of data science.\n2. Investigate arithmetic expressions in data science.\n3. Give examples of data science tools and libraries.",
      "metadata": {}
    },
    {
      "cell_type": "markdown",
      "source": "## Data Science Language list\n1. Julia\n2. Python\n3. R",
      "metadata": {}
    },
    {
      "cell_type": "markdown",
      "source": "## Data Science Library list\n- Scikit-Learn\n- Seaborn\n- Matplotlib\n- Pandas\n- Numpy",
      "metadata": {}
    },
    {
      "cell_type": "markdown",
      "source": "## Data Science Tools List\n| Tool            | Description                                             |\n|-----------------|---------------------------------------------------------| \n| Jupyter Notebook| Open source web application for interactive coding      |\n| TensorFlow      | Open source machine learning and deep learning framework|\n| Tableau         | Business Intelligence and Data Visualization tool       |\n",
      "metadata": {}
    },
    {
      "cell_type": "markdown",
      "source": "## Examples of Arithmetic Expression\nHere entails some of the basic arithmetic expressions in Python.",
      "metadata": {}
    },
    {
      "cell_type": "code",
      "source": "result = 4 * 5 + 6\nresult\n",
      "metadata": {
        "trusted": true
      },
      "execution_count": 6,
      "outputs": [
        {
          "execution_count": 6,
          "output_type": "execute_result",
          "data": {
            "text/plain": "26"
          },
          "metadata": {}
        }
      ]
    },
    {
      "cell_type": "markdown",
      "source": "## Minutes to hours conversion\n",
      "metadata": {}
    },
    {
      "cell_type": "code",
      "source": "minutes = 240\nhours = minutes/60\nhours",
      "metadata": {
        "trusted": true
      },
      "execution_count": 8,
      "outputs": [
        {
          "execution_count": 8,
          "output_type": "execute_result",
          "data": {
            "text/plain": "4.0"
          },
          "metadata": {}
        }
      ]
    },
    {
      "cell_type": "markdown",
      "source": "## Author\n- Alec Garcia",
      "metadata": {}
    },
    {
      "cell_type": "code",
      "source": "",
      "metadata": {},
      "execution_count": null,
      "outputs": []
    }
  ]
}