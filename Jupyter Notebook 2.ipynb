{
  "metadata": {
    "language_info": {
      "codemirror_mode": {
        "name": "python",
        "version": 3
      },
      "file_extension": ".py",
      "mimetype": "text/x-python",
      "name": "python",
      "nbconvert_exporter": "python",
      "pygments_lexer": "ipython3",
      "version": "3.8"
    },
    "kernelspec": {
      "name": "python",
      "display_name": "Python (Pyodide)",
      "language": "python"
    }
  },
  "nbformat_minor": 4,
  "nbformat": 4,
  "cells": [
    {
      "cell_type": "code",
      "source": "# Data Science Jupyter Notebook",
      "metadata": {
        "trusted": true
      },
      "execution_count": 1,
      "outputs": []
    },
    {
      "cell_type": "code",
      "source": "# Intro\n## Welcome to my first ever Jupiter Notebook, this notebook entails my knowledge so far in data science\n",
      "metadata": {
        "trusted": true
      },
      "execution_count": 2,
      "outputs": []
    },
    {
      "cell_type": "code",
      "source": "# Objectives\n## In this notebook, we aim to:\n###1. Learn the basics of data science.\n###2. Investigate arithmetic expressions in data science.\n###3. Give examples of data science tools and libraries.",
      "metadata": {
        "trusted": true
      },
      "execution_count": 3,
      "outputs": []
    },
    {
      "cell_type": "code",
      "source": "# Data Science Language List\n##1. Learn the basics of data science\n##2. Investigatethe arithmetic expressions in data science.\n##3. Give examples of data science tools and libraries.",
      "metadata": {
        "trusted": true
      },
      "execution_count": 4,
      "outputs": []
    },
    {
      "cell_type": "code",
      "source": "## Data Science Language list\n##1. Python\n##2. R\n##3. SQL\n##4. Java\n##5. Scala\n##6. Julia\n##7. SAS\n##8. MATLAB\n##9. C\n##10. JavaScript\n##11. Pearl",
      "metadata": {
        "trusted": true
      },
      "execution_count": 27,
      "outputs": []
    },
    {
      "cell_type": "code",
      "source": "import pandas as pd\n# Data Science Tools list\ndata = {\n    'Tool  |': ['Python |', 'R |', 'SQL |', 'Jupyter Notebook |', 'TensorFlow |', 'Tableau |'],\n    'Description |': [\n        'Versatile programming language for data tasks.',\n        'Language for statistical analysis and visualization.',\n        'Language for managing and querying databases.',\n        'Interactive platform for data analysis and documentation.',\n        'Open-source framework for machine learning.',\n        'Tool for creating interactive data dashboards.'\n    ]\n}\n\ndf = pd.DataFrame(data)\nprint(df)",
      "metadata": {
        "trusted": true
      },
      "execution_count": 19,
      "outputs": [
        {
          "name": "stdout",
          "text": "              Tool  |                                      Description |\n0            Python |     Versatile programming language for data tasks.\n1                 R |  Language for statistical analysis and visualiz...\n2               SQL |      Language for managing and querying databases.\n3  Jupyter Notebook |  Interactive platform for data analysis and doc...\n4        TensorFlow |        Open-source framework for machine learning.\n5           Tableau |     Tool for creating interactive data dashboards.\n",
          "output_type": "stream"
        }
      ]
    },
    {
      "cell_type": "code",
      "source": "# Examples of Arithmetic Expression\n## Here entails some of the basic arithmetic expressions in Python.\n\nresult = 4 * 5 + 6\nresult",
      "metadata": {
        "trusted": true
      },
      "execution_count": 21,
      "outputs": [
        {
          "execution_count": 21,
          "output_type": "execute_result",
          "data": {
            "text/plain": "26"
          },
          "metadata": {}
        }
      ]
    },
    {
      "cell_type": "code",
      "source": "# Minutes to hours conversion\nminutes = 240\nhours = minutes/60\nhours\n",
      "metadata": {
        "trusted": true
      },
      "execution_count": 22,
      "outputs": [
        {
          "execution_count": 22,
          "output_type": "execute_result",
          "data": {
            "text/plain": "4.0"
          },
          "metadata": {}
        }
      ]
    },
    {
      "cell_type": "code",
      "source": "# Author\n## Alec Garcia",
      "metadata": {
        "trusted": true
      },
      "execution_count": 25,
      "outputs": []
    },
    {
      "cell_type": "code",
      "source": "",
      "metadata": {},
      "execution_count": null,
      "outputs": []
    }
  ]
}